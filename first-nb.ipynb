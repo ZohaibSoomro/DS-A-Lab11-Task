{
 "cells": [
  {
   "cell_type": "code",
   "execution_count": 1,
   "id": "9813dd24",
   "metadata": {},
   "outputs": [
    {
     "name": "stdout",
     "output_type": "stream",
     "text": [
      "===============\n",
      "Hello World!\n",
      "Hello  Zohaib\n",
      "===============\n",
      "DSA lab-11\n"
     ]
    }
   ],
   "source": [
    "def greeting(name):\n",
    "\tprint(\"Hello \",name)\n",
    "\n",
    "print(\"=\"*15)\n",
    "print(\"Hello World!\")\n",
    "greeting(\"Zohaib\")\n",
    "print(\"=\"*15)\n",
    "print(\"DSA lab-11\")"
   ]
  }
 ],
 "metadata": {
  "kernelspec": {
   "display_name": "Python 3",
   "language": "python",
   "name": "python3"
  },
  "language_info": {
   "codemirror_mode": {
    "name": "ipython",
    "version": 3
   },
   "file_extension": ".py",
   "mimetype": "text/x-python",
   "name": "python",
   "nbconvert_exporter": "python",
   "pygments_lexer": "ipython3",
   "version": "3.8.8"
  }
 },
 "nbformat": 4,
 "nbformat_minor": 5
}
