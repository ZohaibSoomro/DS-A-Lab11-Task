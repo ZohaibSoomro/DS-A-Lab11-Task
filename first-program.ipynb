def greeting(name):
	print("Hello ",name)

print("="*15)
print("Hello World!")
greeting("Zohaib")
print("="*15)
print("DSA lab-11")